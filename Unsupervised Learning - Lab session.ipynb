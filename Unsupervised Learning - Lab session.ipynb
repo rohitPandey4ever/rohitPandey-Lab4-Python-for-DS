{
 "cells": [
  {
   "cell_type": "markdown",
   "id": "012f4b3f",
   "metadata": {
    "id": "012f4b3f"
   },
   "source": [
    "# Unsupervised Lab Session"
   ]
  },
  {
   "cell_type": "markdown",
   "id": "d821f5c4",
   "metadata": {
    "id": "d821f5c4"
   },
   "source": [
    "## Learning outcomes:\n",
    "- Exploratory data analysis and data preparation for model building.\n",
    "- PCA for dimensionality reduction.\n",
    "- K-means and Agglomerative Clustering"
   ]
  },
  {
   "cell_type": "markdown",
   "id": "fd7f778a",
   "metadata": {
    "id": "fd7f778a"
   },
   "source": [
    "## Problem Statement\n",
    "Based on the given marketing campigan dataset, segment the similar customers into suitable clusters. Analyze the clusters and provide your insights to help the organization promote their business."
   ]
  },
  {
   "cell_type": "markdown",
   "id": "4fba089d",
   "metadata": {
    "id": "4fba089d"
   },
   "source": [
    "## Context:\n",
    "- Customer Personality Analysis is a detailed analysis of a company’s ideal customers. It helps a business to better understand its customers and makes it easier for them to modify products according to the specific needs, behaviors and concerns of different types of customers.\n",
    "- Customer personality analysis helps a business to modify its product based on its target customers from different types of customer segments. For example, instead of spending money to market a new product to every customer in the company’s database, a company can analyze which customer segment is most likely to buy the product and then market the product only on that particular segment."
   ]
  },
  {
   "cell_type": "markdown",
   "id": "867166aa",
   "metadata": {
    "id": "867166aa"
   },
   "source": [
    "## About dataset\n",
    "- Source: https://www.kaggle.com/datasets/imakash3011/customer-personality-analysis?datasetId=1546318&sortBy=voteCount\n",
    "\n",
    "### Attribute Information:\n",
    "- ID: Customer's unique identifier\n",
    "- Year_Birth: Customer's birth year\n",
    "- Education: Customer's education level\n",
    "- Marital_Status: Customer's marital status\n",
    "- Income: Customer's yearly household income\n",
    "- Kidhome: Number of children in customer's household\n",
    "- Teenhome: Number of teenagers in customer's household\n",
    "- Dt_Customer: Date of customer's enrollment with the company\n",
    "- Recency: Number of days since customer's last purchase\n",
    "- Complain: 1 if the customer complained in the last 2 years, 0 otherwise\n",
    "- MntWines: Amount spent on wine in last 2 years\n",
    "- MntFruits: Amount spent on fruits in last 2 years\n",
    "- MntMeatProducts: Amount spent on meat in last 2 years\n",
    "- MntFishProducts: Amount spent on fish in last 2 years\n",
    "- MntSweetProducts: Amount spent on sweets in last 2 years\n",
    "- MntGoldProds: Amount spent on gold in last 2 years\n",
    "- NumDealsPurchases: Number of purchases made with a discount\n",
    "- AcceptedCmp1: 1 if customer accepted the offer in the 1st campaign, 0 otherwise\n",
    "- AcceptedCmp2: 1 if customer accepted the offer in the 2nd campaign, 0 otherwise\n",
    "- AcceptedCmp3: 1 if customer accepted the offer in the 3rd campaign, 0 otherwise\n",
    "- AcceptedCmp4: 1 if customer accepted the offer in the 4th campaign, 0 otherwise\n",
    "- AcceptedCmp5: 1 if customer accepted the offer in the 5th campaign, 0 otherwise\n",
    "- Response: 1 if customer accepted the offer in the last campaign, 0 otherwise\n",
    "- NumWebPurchases: Number of purchases made through the company’s website\n",
    "- NumCatalogPurchases: Number of purchases made using a catalogue\n",
    "- NumStorePurchases: Number of purchases made directly in stores\n",
    "- NumWebVisitsMonth: Number of visits to company’s website in the last month"
   ]
  },
  {
   "cell_type": "markdown",
   "id": "5a830406",
   "metadata": {
    "id": "5a830406"
   },
   "source": [
    "### 1. Import required libraries"
   ]
  },
  {
   "cell_type": "code",
   "execution_count": 2,
   "id": "46b41b77",
   "metadata": {
    "id": "46b41b77"
   },
   "outputs": [
    {
     "ename": "",
     "evalue": "",
     "output_type": "error",
     "traceback": [
      "\u001b[1;31mFailed to start the Kernel. \n",
      "\u001b[1;31mConnection is disposed. \n",
      "\u001b[1;31mView Jupyter <a href='command:jupyter.viewOutput'>log</a> for further details."
     ]
    }
   ],
   "source": [
    "import numpy as np\n",
    "import pandas as pd\n",
    "import matplotlib.pyplot as plt\n",
    "import seaborn as sns\n",
    "import warnings\n",
    "warnings.filterwarnings('ignore')\n",
    "\n",
    "from sklearn.preprocessing import StandardScaler\n",
    "from sklearn.preprocessing import LabelEncoder\n",
    "from scipy import stats\n",
    "from sklearn.cluster import KMeans\n",
    "from scipy.stats import zscore\n",
    "from scipy.spatial import distance\n",
    "from scipy.cluster.hierarchy import linkage, dendrogram, fcluster\n",
    "from sklearn.cluster import AgglomerativeClustering\n",
    "from sklearn.decomposition import PCA"
   ]
  },
  {
   "cell_type": "markdown",
   "id": "c80eb960",
   "metadata": {
    "id": "c80eb960"
   },
   "source": [
    "### 2. Load the CSV file (i.e marketing.csv) and display the first 5 rows of the dataframe. Check the shape and info of the dataset."
   ]
  },
  {
   "cell_type": "code",
   "execution_count": 4,
   "id": "e4b776d3",
   "metadata": {
    "executionInfo": {
     "elapsed": 349,
     "status": "ok",
     "timestamp": 1656753244009,
     "user": {
      "displayName": "Ranjitha Prasad",
      "userId": "10570177482505539876"
     },
     "user_tz": -330
    },
    "id": "e4b776d3",
    "outputId": "d716fbbb-dc77-4aae-9573-a7b262d5341a"
   },
   "outputs": [
    {
     "ename": "",
     "evalue": "",
     "output_type": "error",
     "traceback": [
      "\u001b[1;31mFailed to start the Kernel. \n",
      "\u001b[1;31mConnection is disposed. \n",
      "\u001b[1;31mView Jupyter <a href='command:jupyter.viewOutput'>log</a> for further details."
     ]
    }
   ],
   "source": [
    "df=pd.read_csv(marketing.csv)\n",
    "df.head()"
   ]
  },
  {
   "cell_type": "markdown",
   "id": "7b102709",
   "metadata": {
    "id": "7b102709"
   },
   "source": [
    "- There are around 2K instances and 27 columns.\n",
    "- We can observe that most of the columns are of numerical datatype."
   ]
  },
  {
   "cell_type": "markdown",
   "id": "cee1f45a",
   "metadata": {
    "id": "cee1f45a"
   },
   "source": [
    "### 3. Check the percentage of missing values? If there is presence of missing values, treat them accordingly."
   ]
  },
  {
   "cell_type": "code",
   "execution_count": 6,
   "id": "c555553f",
   "metadata": {
    "colab": {
     "base_uri": "https://localhost:8080/"
    },
    "executionInfo": {
     "elapsed": 367,
     "status": "ok",
     "timestamp": 1656760246107,
     "user": {
      "displayName": "Ranjitha Prasad",
      "userId": "10570177482505539876"
     },
     "user_tz": -330
    },
    "id": "c555553f",
    "outputId": "d1d832b3-a741-403f-cc8f-658f78167c26"
   },
   "outputs": [
    {
     "ename": "",
     "evalue": "",
     "output_type": "error",
     "traceback": [
      "\u001b[1;31mFailed to start the Kernel. \n",
      "\u001b[1;31mConnection is disposed. \n",
      "\u001b[1;31mView Jupyter <a href='command:jupyter.viewOutput'>log</a> for further details."
     ]
    }
   ],
   "source": [
    "\n",
    "df.isnull().sum()/len(df)*100"
   ]
  },
  {
   "cell_type": "markdown",
   "id": "1420f12b",
   "metadata": {
    "id": "1420f12b"
   },
   "source": [
    "- We have missing value in \"Income\" Column\n",
    "- We will treat it accordingly"
   ]
  },
  {
   "cell_type": "code",
   "execution_count": 7,
   "id": "b7bf9d85",
   "metadata": {
    "colab": {
     "base_uri": "https://localhost:8080/"
    },
    "executionInfo": {
     "elapsed": 708,
     "status": "ok",
     "timestamp": 1656760266757,
     "user": {
      "displayName": "Ranjitha Prasad",
      "userId": "10570177482505539876"
     },
     "user_tz": -330
    },
    "id": "b7bf9d85",
    "outputId": "65e5ffd5-1077-4cf7-834a-52ad42dabeaf"
   },
   "outputs": [
    {
     "data": {
      "text/plain": [
       "ID                     0\n",
       "Year_Birth             0\n",
       "Education              0\n",
       "Marital_Status         0\n",
       "Income                 0\n",
       "Kidhome                0\n",
       "Teenhome               0\n",
       "Dt_Customer            0\n",
       "Recency                0\n",
       "MntWines               0\n",
       "MntFruits              0\n",
       "MntMeatProducts        0\n",
       "MntFishProducts        0\n",
       "MntSweetProducts       0\n",
       "MntGoldProds           0\n",
       "NumDealsPurchases      0\n",
       "NumWebPurchases        0\n",
       "NumCatalogPurchases    0\n",
       "NumStorePurchases      0\n",
       "NumWebVisitsMonth      0\n",
       "AcceptedCmp3           0\n",
       "AcceptedCmp4           0\n",
       "AcceptedCmp5           0\n",
       "AcceptedCmp1           0\n",
       "AcceptedCmp2           0\n",
       "Complain               0\n",
       "Response               0\n",
       "dtype: int64"
      ]
     },
     "execution_count": 7,
     "metadata": {},
     "output_type": "execute_result"
    }
   ],
   "source": [
    "\n",
    "df['Income'] = df['Income'].fillna(df['Income'].mean())\n",
    "\n",
    "df.isnull().sum()"
   ]
  },
  {
   "cell_type": "markdown",
   "id": "174774b9",
   "metadata": {
    "id": "174774b9"
   },
   "source": [
    "### 4. Check if there are any duplicate records in the dataset? If any drop them."
   ]
  },
  {
   "cell_type": "code",
   "execution_count": 8,
   "id": "0ce68355",
   "metadata": {
    "colab": {
     "base_uri": "https://localhost:8080/"
    },
    "executionInfo": {
     "elapsed": 410,
     "status": "ok",
     "timestamp": 1656760274132,
     "user": {
      "displayName": "Ranjitha Prasad",
      "userId": "10570177482505539876"
     },
     "user_tz": -330
    },
    "id": "0ce68355",
    "outputId": "828837f4-8276-4d35-b2b8-3d89945db13b"
   },
   "outputs": [
    {
     "data": {
      "text/plain": [
       "0"
      ]
     },
     "execution_count": 8,
     "metadata": {},
     "output_type": "execute_result"
    }
   ],
   "source": [
    "\n",
    "len(df[df.duplicated()])"
   ]
  },
  {
   "cell_type": "markdown",
   "id": "8df1b38c",
   "metadata": {
    "id": "8df1b38c"
   },
   "source": [
    "- There are no missing values present in the dataset."
   ]
  },
  {
   "cell_type": "markdown",
   "id": "f3fd2671",
   "metadata": {
    "id": "f3fd2671"
   },
   "source": [
    "### 5. Drop the columns which you think redundant for the analysis "
   ]
  },
  {
   "cell_type": "code",
   "execution_count": 9,
   "id": "ddd690ff",
   "metadata": {
    "id": "ddd690ff"
   },
   "outputs": [],
   "source": [
    "\n",
    "df = df.drop(columns=['ID','Dt_Customer'],axis=1)"
   ]
  },
  {
   "cell_type": "markdown",
   "id": "079f7d7c",
   "metadata": {
    "id": "079f7d7c"
   },
   "source": [
    "### 6. Check the unique categories in the column 'Marital_Status'\n",
    "- i) Group categories 'Married', 'Together' as 'relationship'\n",
    "- ii) Group categories 'Divorced', 'Widow', 'Alone', 'YOLO', and 'Absurd' as 'Single'."
   ]
  },
  {
   "cell_type": "code",
   "execution_count": 10,
   "id": "6d5aeae8",
   "metadata": {
    "colab": {
     "base_uri": "https://localhost:8080/"
    },
    "executionInfo": {
     "elapsed": 387,
     "status": "ok",
     "timestamp": 1656760295255,
     "user": {
      "displayName": "Ranjitha Prasad",
      "userId": "10570177482505539876"
     },
     "user_tz": -330
    },
    "id": "6d5aeae8",
    "outputId": "ea15ab61-2b6e-4ab6-b68e-062cf4154947"
   },
   "outputs": [
    {
     "data": {
      "text/plain": [
       "Marital_Status\n",
       "Married     864\n",
       "Together    580\n",
       "Single      480\n",
       "Divorced    232\n",
       "Widow        77\n",
       "Alone         3\n",
       "Absurd        2\n",
       "YOLO          2\n",
       "Name: count, dtype: int64"
      ]
     },
     "execution_count": 10,
     "metadata": {},
     "output_type": "execute_result"
    }
   ],
   "source": [
    "\n",
    "df['Marital_Status'].value_counts()"
   ]
  },
  {
   "cell_type": "code",
   "execution_count": 11,
   "id": "1494ae74",
   "metadata": {
    "id": "1494ae74"
   },
   "outputs": [],
   "source": [
    "df['Marital_Status'] = df['Marital_Status'].replace(['Married', 'Together'],'relationship')\n",
    "df['Marital_Status'] = df['Marital_Status'].replace(['Divorced', 'Widow', 'Alone', 'YOLO', 'Absurd'],'Single')"
   ]
  },
  {
   "cell_type": "markdown",
   "id": "80bbf3d6",
   "metadata": {
    "id": "80bbf3d6"
   },
   "source": [
    "- In the above cell we are grouping 'Married', 'Together' as \"relationship\"\n",
    "- Whereas 'Divorced', 'Widow', 'Alone', 'YOLO', 'Absurd' as \"Single\""
   ]
  },
  {
   "cell_type": "code",
   "execution_count": 12,
   "id": "5348bbda",
   "metadata": {
    "id": "5348bbda",
    "outputId": "bfa4d358-0b40-449f-b760-e6fc64e33b60"
   },
   "outputs": [
    {
     "data": {
      "text/plain": [
       "Marital_Status\n",
       "relationship    1444\n",
       "Single           796\n",
       "Name: count, dtype: int64"
      ]
     },
     "execution_count": 12,
     "metadata": {},
     "output_type": "execute_result"
    }
   ],
   "source": [
    "\n",
    "df['Marital_Status'].value_counts()"
   ]
  },
  {
   "cell_type": "markdown",
   "id": "cb8e6b91",
   "metadata": {
    "id": "cb8e6b91"
   },
   "source": [
    "### 7. Group the columns 'MntWines', 'MntFruits', 'MntMeatProducts', 'MntFishProducts', 'MntSweetProducts', and 'MntGoldProds' as 'Total_Expenses'"
   ]
  },
  {
   "cell_type": "code",
   "execution_count": 13,
   "id": "edf42fe2",
   "metadata": {
    "id": "edf42fe2"
   },
   "outputs": [],
   "source": [
    "df['Total_Expenses'] = df['MntWines'] + df['MntFruits'] + df['MntMeatProducts'] + df['MntFishProducts'] + df['MntSweetProducts'] + df['MntGoldProds']"
   ]
  },
  {
   "cell_type": "markdown",
   "id": "eab33bbe",
   "metadata": {
    "id": "eab33bbe"
   },
   "source": [
    "### 8. Group the columns 'NumWebPurchases', 'NumCatalogPurchases', 'NumStorePurchases', and 'NumDealsPurchases' as 'Num_Total_Purchases'"
   ]
  },
  {
   "cell_type": "code",
   "execution_count": 14,
   "id": "59f1b6fc",
   "metadata": {
    "id": "59f1b6fc"
   },
   "outputs": [],
   "source": [
    "df['NumTotalPurchases'] = df['NumWebPurchases'] + df['NumCatalogPurchases'] + df['NumStorePurchases'] + df['NumDealsPurchases']"
   ]
  },
  {
   "cell_type": "markdown",
   "id": "96460ea4",
   "metadata": {
    "id": "96460ea4"
   },
   "source": [
    "### 9. Group the columns 'Kidhome' and 'Teenhome' as 'Kids'"
   ]
  },
  {
   "cell_type": "code",
   "execution_count": 15,
   "id": "168e520d",
   "metadata": {
    "id": "168e520d"
   },
   "outputs": [],
   "source": [
    "df['Kids'] = df['Kidhome'] + df['Teenhome']"
   ]
  },
  {
   "cell_type": "markdown",
   "id": "32e547e5",
   "metadata": {
    "id": "32e547e5"
   },
   "source": [
    "### 10. Group columns 'AcceptedCmp1 , 2 , 3 , 4, 5' and 'Response' as 'TotalAcceptedCmp'"
   ]
  },
  {
   "cell_type": "code",
   "execution_count": 16,
   "id": "4b3190c8",
   "metadata": {
    "id": "4b3190c8"
   },
   "outputs": [],
   "source": [
    "df['TotalAcceptedCmp'] = df['AcceptedCmp1'] + df['AcceptedCmp2'] + df['AcceptedCmp3'] + df['AcceptedCmp4'] + df['AcceptedCmp5'] + df['Response']"
   ]
  },
  {
   "cell_type": "markdown",
   "id": "3cec7722",
   "metadata": {
    "id": "3cec7722"
   },
   "source": [
    "### 11. Drop those columns which we have used above for obtaining new features"
   ]
  },
  {
   "cell_type": "code",
   "execution_count": 17,
   "id": "075fcd00",
   "metadata": {
    "colab": {
     "base_uri": "https://localhost:8080/",
     "height": 206
    },
    "executionInfo": {
     "elapsed": 368,
     "status": "ok",
     "timestamp": 1656760506702,
     "user": {
      "displayName": "Ranjitha Prasad",
      "userId": "10570177482505539876"
     },
     "user_tz": -330
    },
    "id": "075fcd00",
    "outputId": "5b798876-4c7a-46f7-e88a-8437731fdfef"
   },
   "outputs": [
    {
     "data": {
      "text/html": [
       "<div>\n",
       "<style scoped>\n",
       "    .dataframe tbody tr th:only-of-type {\n",
       "        vertical-align: middle;\n",
       "    }\n",
       "\n",
       "    .dataframe tbody tr th {\n",
       "        vertical-align: top;\n",
       "    }\n",
       "\n",
       "    .dataframe thead th {\n",
       "        text-align: right;\n",
       "    }\n",
       "</style>\n",
       "<table border=\"1\" class=\"dataframe\">\n",
       "  <thead>\n",
       "    <tr style=\"text-align: right;\">\n",
       "      <th></th>\n",
       "      <th>Year_Birth</th>\n",
       "      <th>Education</th>\n",
       "      <th>Marital_Status</th>\n",
       "      <th>Income</th>\n",
       "      <th>Recency</th>\n",
       "      <th>Complain</th>\n",
       "      <th>Total_Expenses</th>\n",
       "      <th>NumTotalPurchases</th>\n",
       "      <th>Kids</th>\n",
       "      <th>TotalAcceptedCmp</th>\n",
       "    </tr>\n",
       "  </thead>\n",
       "  <tbody>\n",
       "    <tr>\n",
       "      <th>0</th>\n",
       "      <td>1957</td>\n",
       "      <td>Graduation</td>\n",
       "      <td>Single</td>\n",
       "      <td>58138.0</td>\n",
       "      <td>58</td>\n",
       "      <td>0</td>\n",
       "      <td>1617</td>\n",
       "      <td>25</td>\n",
       "      <td>0</td>\n",
       "      <td>1</td>\n",
       "    </tr>\n",
       "    <tr>\n",
       "      <th>1</th>\n",
       "      <td>1954</td>\n",
       "      <td>Graduation</td>\n",
       "      <td>Single</td>\n",
       "      <td>46344.0</td>\n",
       "      <td>38</td>\n",
       "      <td>0</td>\n",
       "      <td>27</td>\n",
       "      <td>6</td>\n",
       "      <td>2</td>\n",
       "      <td>0</td>\n",
       "    </tr>\n",
       "    <tr>\n",
       "      <th>2</th>\n",
       "      <td>1965</td>\n",
       "      <td>Graduation</td>\n",
       "      <td>relationship</td>\n",
       "      <td>71613.0</td>\n",
       "      <td>26</td>\n",
       "      <td>0</td>\n",
       "      <td>776</td>\n",
       "      <td>21</td>\n",
       "      <td>0</td>\n",
       "      <td>0</td>\n",
       "    </tr>\n",
       "    <tr>\n",
       "      <th>3</th>\n",
       "      <td>1984</td>\n",
       "      <td>Graduation</td>\n",
       "      <td>relationship</td>\n",
       "      <td>26646.0</td>\n",
       "      <td>26</td>\n",
       "      <td>0</td>\n",
       "      <td>53</td>\n",
       "      <td>8</td>\n",
       "      <td>1</td>\n",
       "      <td>0</td>\n",
       "    </tr>\n",
       "    <tr>\n",
       "      <th>4</th>\n",
       "      <td>1981</td>\n",
       "      <td>PhD</td>\n",
       "      <td>relationship</td>\n",
       "      <td>58293.0</td>\n",
       "      <td>94</td>\n",
       "      <td>0</td>\n",
       "      <td>422</td>\n",
       "      <td>19</td>\n",
       "      <td>1</td>\n",
       "      <td>0</td>\n",
       "    </tr>\n",
       "  </tbody>\n",
       "</table>\n",
       "</div>"
      ],
      "text/plain": [
       "   Year_Birth   Education Marital_Status   Income  Recency  Complain  \\\n",
       "0        1957  Graduation         Single  58138.0       58         0   \n",
       "1        1954  Graduation         Single  46344.0       38         0   \n",
       "2        1965  Graduation   relationship  71613.0       26         0   \n",
       "3        1984  Graduation   relationship  26646.0       26         0   \n",
       "4        1981         PhD   relationship  58293.0       94         0   \n",
       "\n",
       "   Total_Expenses  NumTotalPurchases  Kids  TotalAcceptedCmp  \n",
       "0            1617                 25     0                 1  \n",
       "1              27                  6     2                 0  \n",
       "2             776                 21     0                 0  \n",
       "3              53                  8     1                 0  \n",
       "4             422                 19     1                 0  "
      ]
     },
     "execution_count": 17,
     "metadata": {},
     "output_type": "execute_result"
    }
   ],
   "source": [
    "\n",
    "\n",
    "col_del = [\"AcceptedCmp1\" , \"AcceptedCmp2\", \"AcceptedCmp3\" , \"AcceptedCmp4\",\"AcceptedCmp5\", \"Response\",\"NumWebVisitsMonth\", \"NumWebPurchases\",\"NumCatalogPurchases\",\"NumStorePurchases\",\"NumDealsPurchases\" , \"Kidhome\", \"Teenhome\",\"MntWines\", \"MntFruits\", \"MntMeatProducts\", \"MntFishProducts\", \"MntSweetProducts\", \"MntGoldProds\"]\n",
    "df=df.drop(columns=col_del,axis=1)\n",
    "df.head()"
   ]
  },
  {
   "cell_type": "markdown",
   "id": "1fe14ce2",
   "metadata": {
    "id": "1fe14ce2"
   },
   "source": [
    "### 12. Extract 'age' using the column 'Year_Birth' and then drop the column 'Year_birth'"
   ]
  },
  {
   "cell_type": "code",
   "execution_count": 18,
   "id": "ad94f516",
   "metadata": {
    "id": "ad94f516"
   },
   "outputs": [],
   "source": [
    "\n",
    "df['Age'] = 2022 - df[\"Year_Birth\"]"
   ]
  },
  {
   "cell_type": "code",
   "execution_count": 19,
   "id": "f4bead8b",
   "metadata": {
    "id": "f4bead8b"
   },
   "outputs": [],
   "source": [
    "df.drop('Year_Birth',axis=1,inplace=True)"
   ]
  },
  {
   "cell_type": "code",
   "execution_count": 20,
   "id": "6ea0a9b3",
   "metadata": {
    "id": "6ea0a9b3",
    "outputId": "b0905d05-e81f-4d31-862b-3e213450317f"
   },
   "outputs": [
    {
     "data": {
      "text/html": [
       "<div>\n",
       "<style scoped>\n",
       "    .dataframe tbody tr th:only-of-type {\n",
       "        vertical-align: middle;\n",
       "    }\n",
       "\n",
       "    .dataframe tbody tr th {\n",
       "        vertical-align: top;\n",
       "    }\n",
       "\n",
       "    .dataframe thead th {\n",
       "        text-align: right;\n",
       "    }\n",
       "</style>\n",
       "<table border=\"1\" class=\"dataframe\">\n",
       "  <thead>\n",
       "    <tr style=\"text-align: right;\">\n",
       "      <th></th>\n",
       "      <th>Education</th>\n",
       "      <th>Marital_Status</th>\n",
       "      <th>Income</th>\n",
       "      <th>Recency</th>\n",
       "      <th>Complain</th>\n",
       "      <th>Total_Expenses</th>\n",
       "      <th>NumTotalPurchases</th>\n",
       "      <th>Kids</th>\n",
       "      <th>TotalAcceptedCmp</th>\n",
       "      <th>Age</th>\n",
       "    </tr>\n",
       "  </thead>\n",
       "  <tbody>\n",
       "    <tr>\n",
       "      <th>0</th>\n",
       "      <td>Graduation</td>\n",
       "      <td>Single</td>\n",
       "      <td>58138.0</td>\n",
       "      <td>58</td>\n",
       "      <td>0</td>\n",
       "      <td>1617</td>\n",
       "      <td>25</td>\n",
       "      <td>0</td>\n",
       "      <td>1</td>\n",
       "      <td>65</td>\n",
       "    </tr>\n",
       "    <tr>\n",
       "      <th>1</th>\n",
       "      <td>Graduation</td>\n",
       "      <td>Single</td>\n",
       "      <td>46344.0</td>\n",
       "      <td>38</td>\n",
       "      <td>0</td>\n",
       "      <td>27</td>\n",
       "      <td>6</td>\n",
       "      <td>2</td>\n",
       "      <td>0</td>\n",
       "      <td>68</td>\n",
       "    </tr>\n",
       "  </tbody>\n",
       "</table>\n",
       "</div>"
      ],
      "text/plain": [
       "    Education Marital_Status   Income  Recency  Complain  Total_Expenses  \\\n",
       "0  Graduation         Single  58138.0       58         0            1617   \n",
       "1  Graduation         Single  46344.0       38         0              27   \n",
       "\n",
       "   NumTotalPurchases  Kids  TotalAcceptedCmp  Age  \n",
       "0                 25     0                 1   65  \n",
       "1                  6     2                 0   68  "
      ]
     },
     "execution_count": 20,
     "metadata": {},
     "output_type": "execute_result"
    }
   ],
   "source": [
    "df.head(2)"
   ]
  },
  {
   "cell_type": "code",
   "execution_count": 22,
   "id": "28d6b86e",
   "metadata": {
    "id": "28d6b86e"
   },
   "outputs": [],
   "source": [
    "dfc = df.copy()"
   ]
  },
  {
   "cell_type": "markdown",
   "id": "3c9f8870",
   "metadata": {
    "id": "3c9f8870"
   },
   "source": [
    "### 13. Encode the categorical variables in the dataset"
   ]
  },
  {
   "cell_type": "code",
   "execution_count": 23,
   "id": "038a1eb2",
   "metadata": {
    "id": "038a1eb2"
   },
   "outputs": [],
   "source": [
    "\n",
    "cate=['Education', 'Marital_Status']\n",
    "lbl_encode = LabelEncoder()\n",
    "for i in cate:\n",
    "    df[i]=df[[i]].apply(lbl_encode.fit_transform)"
   ]
  },
  {
   "cell_type": "code",
   "execution_count": 24,
   "id": "dada4780",
   "metadata": {
    "id": "dada4780",
    "outputId": "986fef2e-21e2-4898-fae7-e5cd9b73de5c"
   },
   "outputs": [
    {
     "data": {
      "text/html": [
       "<div>\n",
       "<style scoped>\n",
       "    .dataframe tbody tr th:only-of-type {\n",
       "        vertical-align: middle;\n",
       "    }\n",
       "\n",
       "    .dataframe tbody tr th {\n",
       "        vertical-align: top;\n",
       "    }\n",
       "\n",
       "    .dataframe thead th {\n",
       "        text-align: right;\n",
       "    }\n",
       "</style>\n",
       "<table border=\"1\" class=\"dataframe\">\n",
       "  <thead>\n",
       "    <tr style=\"text-align: right;\">\n",
       "      <th></th>\n",
       "      <th>Education</th>\n",
       "      <th>Marital_Status</th>\n",
       "      <th>Income</th>\n",
       "      <th>Recency</th>\n",
       "      <th>Complain</th>\n",
       "      <th>Total_Expenses</th>\n",
       "      <th>NumTotalPurchases</th>\n",
       "      <th>Kids</th>\n",
       "      <th>TotalAcceptedCmp</th>\n",
       "      <th>Age</th>\n",
       "    </tr>\n",
       "  </thead>\n",
       "  <tbody>\n",
       "    <tr>\n",
       "      <th>0</th>\n",
       "      <td>2</td>\n",
       "      <td>0</td>\n",
       "      <td>58138.0</td>\n",
       "      <td>58</td>\n",
       "      <td>0</td>\n",
       "      <td>1617</td>\n",
       "      <td>25</td>\n",
       "      <td>0</td>\n",
       "      <td>1</td>\n",
       "      <td>65</td>\n",
       "    </tr>\n",
       "    <tr>\n",
       "      <th>1</th>\n",
       "      <td>2</td>\n",
       "      <td>0</td>\n",
       "      <td>46344.0</td>\n",
       "      <td>38</td>\n",
       "      <td>0</td>\n",
       "      <td>27</td>\n",
       "      <td>6</td>\n",
       "      <td>2</td>\n",
       "      <td>0</td>\n",
       "      <td>68</td>\n",
       "    </tr>\n",
       "    <tr>\n",
       "      <th>2</th>\n",
       "      <td>2</td>\n",
       "      <td>1</td>\n",
       "      <td>71613.0</td>\n",
       "      <td>26</td>\n",
       "      <td>0</td>\n",
       "      <td>776</td>\n",
       "      <td>21</td>\n",
       "      <td>0</td>\n",
       "      <td>0</td>\n",
       "      <td>57</td>\n",
       "    </tr>\n",
       "    <tr>\n",
       "      <th>3</th>\n",
       "      <td>2</td>\n",
       "      <td>1</td>\n",
       "      <td>26646.0</td>\n",
       "      <td>26</td>\n",
       "      <td>0</td>\n",
       "      <td>53</td>\n",
       "      <td>8</td>\n",
       "      <td>1</td>\n",
       "      <td>0</td>\n",
       "      <td>38</td>\n",
       "    </tr>\n",
       "    <tr>\n",
       "      <th>4</th>\n",
       "      <td>4</td>\n",
       "      <td>1</td>\n",
       "      <td>58293.0</td>\n",
       "      <td>94</td>\n",
       "      <td>0</td>\n",
       "      <td>422</td>\n",
       "      <td>19</td>\n",
       "      <td>1</td>\n",
       "      <td>0</td>\n",
       "      <td>41</td>\n",
       "    </tr>\n",
       "  </tbody>\n",
       "</table>\n",
       "</div>"
      ],
      "text/plain": [
       "   Education  Marital_Status   Income  Recency  Complain  Total_Expenses  \\\n",
       "0          2               0  58138.0       58         0            1617   \n",
       "1          2               0  46344.0       38         0              27   \n",
       "2          2               1  71613.0       26         0             776   \n",
       "3          2               1  26646.0       26         0              53   \n",
       "4          4               1  58293.0       94         0             422   \n",
       "\n",
       "   NumTotalPurchases  Kids  TotalAcceptedCmp  Age  \n",
       "0                 25     0                 1   65  \n",
       "1                  6     2                 0   68  \n",
       "2                 21     0                 0   57  \n",
       "3                  8     1                 0   38  \n",
       "4                 19     1                 0   41  "
      ]
     },
     "execution_count": 24,
     "metadata": {},
     "output_type": "execute_result"
    }
   ],
   "source": [
    "df.head()"
   ]
  },
  {
   "cell_type": "markdown",
   "id": "fc0d712c",
   "metadata": {
    "id": "fc0d712c"
   },
   "source": [
    "### 14. Standardize the columns, so that values are in a particular range"
   ]
  },
  {
   "cell_type": "code",
   "execution_count": 25,
   "id": "a63efe17",
   "metadata": {
    "id": "a63efe17"
   },
   "outputs": [],
   "source": [
    "\n",
    "df1 = df.copy()\n",
    "scaled_features = StandardScaler().fit_transform(df1.values)\n",
    "scaled_features_df = pd.DataFrame(scaled_features, index=df1.index, columns=df1.columns)"
   ]
  },
  {
   "cell_type": "code",
   "execution_count": 26,
   "id": "cef9f734",
   "metadata": {
    "colab": {
     "base_uri": "https://localhost:8080/",
     "height": 143
    },
    "executionInfo": {
     "elapsed": 477,
     "status": "ok",
     "timestamp": 1656760666256,
     "user": {
      "displayName": "Ranjitha Prasad",
      "userId": "10570177482505539876"
     },
     "user_tz": -330
    },
    "id": "cef9f734",
    "outputId": "b176d49b-ca6e-4bf9-b932-a44f22d169c5"
   },
   "outputs": [
    {
     "data": {
      "text/html": [
       "<div>\n",
       "<style scoped>\n",
       "    .dataframe tbody tr th:only-of-type {\n",
       "        vertical-align: middle;\n",
       "    }\n",
       "\n",
       "    .dataframe tbody tr th {\n",
       "        vertical-align: top;\n",
       "    }\n",
       "\n",
       "    .dataframe thead th {\n",
       "        text-align: right;\n",
       "    }\n",
       "</style>\n",
       "<table border=\"1\" class=\"dataframe\">\n",
       "  <thead>\n",
       "    <tr style=\"text-align: right;\">\n",
       "      <th></th>\n",
       "      <th>Education</th>\n",
       "      <th>Marital_Status</th>\n",
       "      <th>Income</th>\n",
       "      <th>Recency</th>\n",
       "      <th>Complain</th>\n",
       "      <th>Total_Expenses</th>\n",
       "      <th>NumTotalPurchases</th>\n",
       "      <th>Kids</th>\n",
       "      <th>TotalAcceptedCmp</th>\n",
       "      <th>Age</th>\n",
       "    </tr>\n",
       "  </thead>\n",
       "  <tbody>\n",
       "    <tr>\n",
       "      <th>0</th>\n",
       "      <td>-0.350141</td>\n",
       "      <td>-1.346874</td>\n",
       "      <td>0.235327</td>\n",
       "      <td>0.307039</td>\n",
       "      <td>-0.097282</td>\n",
       "      <td>1.679417</td>\n",
       "      <td>1.320826</td>\n",
       "      <td>-1.264505</td>\n",
       "      <td>0.621248</td>\n",
       "      <td>0.985345</td>\n",
       "    </tr>\n",
       "    <tr>\n",
       "      <th>1</th>\n",
       "      <td>-0.350141</td>\n",
       "      <td>-1.346874</td>\n",
       "      <td>-0.235826</td>\n",
       "      <td>-0.383664</td>\n",
       "      <td>-0.097282</td>\n",
       "      <td>-0.961275</td>\n",
       "      <td>-1.154596</td>\n",
       "      <td>1.396361</td>\n",
       "      <td>-0.501912</td>\n",
       "      <td>1.235733</td>\n",
       "    </tr>\n",
       "    <tr>\n",
       "      <th>2</th>\n",
       "      <td>-0.350141</td>\n",
       "      <td>0.742460</td>\n",
       "      <td>0.773633</td>\n",
       "      <td>-0.798086</td>\n",
       "      <td>-0.097282</td>\n",
       "      <td>0.282673</td>\n",
       "      <td>0.799685</td>\n",
       "      <td>-1.264505</td>\n",
       "      <td>-0.501912</td>\n",
       "      <td>0.317643</td>\n",
       "    </tr>\n",
       "  </tbody>\n",
       "</table>\n",
       "</div>"
      ],
      "text/plain": [
       "   Education  Marital_Status    Income   Recency  Complain  Total_Expenses  \\\n",
       "0  -0.350141       -1.346874  0.235327  0.307039 -0.097282        1.679417   \n",
       "1  -0.350141       -1.346874 -0.235826 -0.383664 -0.097282       -0.961275   \n",
       "2  -0.350141        0.742460  0.773633 -0.798086 -0.097282        0.282673   \n",
       "\n",
       "   NumTotalPurchases      Kids  TotalAcceptedCmp       Age  \n",
       "0           1.320826 -1.264505          0.621248  0.985345  \n",
       "1          -1.154596  1.396361         -0.501912  1.235733  \n",
       "2           0.799685 -1.264505         -0.501912  0.317643  "
      ]
     },
     "execution_count": 26,
     "metadata": {},
     "output_type": "execute_result"
    }
   ],
   "source": [
    "scaled_features_df.head(3)"
   ]
  },
  {
   "cell_type": "markdown",
   "id": "87858428",
   "metadata": {
    "id": "87858428"
   },
   "source": [
    "### 15. Apply PCA on the above dataset and determine the number of PCA components to be used so that 90-95% of the variance in data is explained by the same."
   ]
  },
  {
   "cell_type": "code",
   "execution_count": 27,
   "id": "9b275b20",
   "metadata": {
    "id": "9b275b20",
    "outputId": "d3aff4dd-d5ee-4a05-b52d-0dc805e8081c",
    "scrolled": true
   },
   "outputs": [
    {
     "data": {
      "text/plain": [
       "array([[ 1.00044663, -0.01375403,  0.1200273 , -0.01173369, -0.05056252,\n",
       "         0.09209518,  0.09405439,  0.05321304,  0.06327892,  0.17146685],\n",
       "       [-0.01375403,  1.00044663,  0.00463847, -0.00450972, -0.00520466,\n",
       "        -0.01775232,  0.00671037,  0.03917598, -0.06004206, -0.0042384 ],\n",
       "       [ 0.1200273 ,  0.00463847,  1.00044663, -0.00394826, -0.02723528,\n",
       "         0.66500337,  0.5636214 , -0.29084155,  0.28717443,  0.16101378],\n",
       "       [-0.01173369, -0.00450972, -0.00394826,  1.00044663,  0.01323699,\n",
       "         0.02044173,  0.00574294,  0.01806145, -0.08900203,  0.01987996],\n",
       "       [-0.05056252, -0.00520466, -0.02723528,  0.01323699,  1.00044663,\n",
       "        -0.03707503, -0.02059185,  0.03108014, -0.01761676,  0.030141  ],\n",
       "       [ 0.09209518, -0.01775232,  0.66500337,  0.02044173, -0.03707503,\n",
       "         1.00044663,  0.75423984, -0.49911047,  0.4564099 ,  0.11135611],\n",
       "       [ 0.09405439,  0.00671037,  0.5636214 ,  0.00574294, -0.02059185,\n",
       "         0.75423984,  1.00044663, -0.24589955,  0.25816052,  0.16837908],\n",
       "       [ 0.05321304,  0.03917598, -0.29084155,  0.01806145,  0.03108014,\n",
       "        -0.49911047, -0.24589955,  1.00044663, -0.25387372,  0.09023955],\n",
       "       [ 0.06327892, -0.06004206,  0.28717443, -0.08900203, -0.01761676,\n",
       "         0.4564099 ,  0.25816052, -0.25387372,  1.00044663, -0.00830618],\n",
       "       [ 0.17146685, -0.0042384 ,  0.16101378,  0.01987996,  0.030141  ,\n",
       "         0.11135611,  0.16837908,  0.09023955, -0.00830618,  1.00044663]])"
      ]
     },
     "execution_count": 27,
     "metadata": {},
     "output_type": "execute_result"
    }
   ],
   "source": [
    "\n",
    "cov_matrix = np.cov(scaled_features.T)\n",
    "cov_matrix"
   ]
  },
  {
   "cell_type": "code",
   "execution_count": 28,
   "id": "97cd3abb",
   "metadata": {
    "id": "97cd3abb",
    "outputId": "470240ea-1e86-4595-f3aa-9221dddbd94f"
   },
   "outputs": [
    {
     "name": "stdout",
     "output_type": "stream",
     "text": [
      "eigein vals: \n",
      " [2.82825422 0.16268189 1.25671692 0.44642558 0.68852169 0.72014579\n",
      " 0.83831416 1.05133456 0.99672837 1.0153431 ]\n",
      "\n",
      "\n",
      "eigein vectors \n",
      " [[-9.68616360e-02  1.14040238e-02  5.42962436e-01 -4.78349449e-02\n",
      "   5.74039740e-02  2.94125705e-01 -6.71991659e-01 -3.76199725e-01\n",
      "   1.00941783e-01 -1.72617973e-02]\n",
      " [ 2.11998107e-02  6.97613253e-04  7.79504963e-02 -8.07214688e-03\n",
      "   1.10415084e-01 -1.19602921e-01 -2.14712105e-01  2.64491403e-01\n",
      "  -4.20392056e-01  8.21051656e-01]\n",
      " [-4.70545377e-01  1.73616866e-01  1.09418121e-01  8.07252800e-01\n",
      "  -2.16588775e-01  1.40590207e-01  9.96061082e-02  7.18687002e-02\n",
      "  -2.41932967e-02  4.96660628e-02]\n",
      " [ 1.22664315e-02  3.96044078e-02  1.24037867e-01  1.76593781e-02\n",
      "   2.23098213e-02 -2.08718955e-01 -2.79156905e-01  6.82882884e-01\n",
      "   6.27676007e-01 -1.69607942e-02]\n",
      " [ 3.33407565e-02 -5.96533459e-03  2.55578632e-02  2.01432755e-03\n",
      "  -1.40338324e-02  1.06301760e-01 -2.85416902e-01  4.74828140e-01\n",
      "  -6.27515907e-01 -5.34787575e-01]\n",
      " [-5.54145758e-01 -8.05819937e-01 -4.81494967e-02 -1.73844596e-01\n",
      "  -5.38663994e-02  4.14557290e-02  1.36323887e-02  7.44620938e-02\n",
      "   1.73613642e-02  1.96051464e-02]\n",
      " [-4.80148422e-01  4.90341278e-01  1.25042961e-01 -5.60504689e-01\n",
      "  -3.57566072e-01  1.44815426e-01  1.75591288e-01  1.25544980e-01\n",
      "  -2.66227676e-02  5.56242626e-02]\n",
      " [ 3.29557959e-01 -2.27808521e-01  4.20492188e-01  2.90841268e-02\n",
      "  -7.40264737e-01 -3.13473615e-01  9.45435794e-02 -3.53558142e-02\n",
      "  -7.32707454e-02  4.53333992e-03]\n",
      " [-3.30359852e-01  1.62611646e-01 -2.04131700e-01  6.47918605e-03\n",
      "   3.69981836e-04 -7.88893536e-01 -3.25694868e-01 -2.59027132e-01\n",
      "  -9.27143079e-02 -1.36333405e-01]\n",
      " [-1.10123842e-01 -1.71518076e-03  6.59292837e-01 -1.99586522e-02\n",
      "   5.08095283e-01 -2.85038832e-01  4.32411126e-01  4.37141215e-02\n",
      "  -9.88323978e-02 -1.21401416e-01]]\n"
     ]
    }
   ],
   "source": [
    "\n",
    "eig_vals, eig_vectors = np.linalg.eig(cov_matrix)\n",
    "print('eigein vals:','\\n',eig_vals)\n",
    "print('\\n')\n",
    "print('eigein vectors','\\n',eig_vectors)"
   ]
  },
  {
   "cell_type": "code",
   "execution_count": 29,
   "id": "f490474d",
   "metadata": {
    "id": "f490474d",
    "outputId": "b5aa84db-0a86-44a3-aec1-360096b9cbe1"
   },
   "outputs": [
    {
     "name": "stdout",
     "output_type": "stream",
     "text": [
      "Explained Variance:  [28.269916058136097, 12.561558881024165, 10.508652122617915, 10.148898225632218, 9.962833994455513, 8.37939916871541, 7.198242940813706, 6.882143140591829, 4.462262869565118, 1.6260925984480283]\n",
      "Cummulative Variance Explained:  [ 28.26991606  40.83147494  51.34012706  61.48902529  71.45185928\n",
      "  79.83125845  87.02950139  93.91164453  98.3739074  100.        ]\n"
     ]
    }
   ],
   "source": [
    "\n",
    "total = sum(eig_vals)\n",
    "var_exp = [(i/total)*100 for i in sorted(eig_vals,reverse=True)]\n",
    "cum_var_exp = np.cumsum(var_exp)\n",
    "print('Explained Variance: ',var_exp)\n",
    "print('Cummulative Variance Explained: ',cum_var_exp)"
   ]
  },
  {
   "cell_type": "code",
   "execution_count": 30,
   "id": "39e63b68",
   "metadata": {
    "id": "39e63b68",
    "outputId": "a098a511-59be-4e65-ff28-3a5c05179a9a"
   },
   "outputs": [
    {
     "data": {
      "image/png": "[encoded data removed]",
      "text/plain": [
       "<Figure size 640x480 with 1 Axes>"
      ]
     },
     "metadata": {},
     "output_type": "display_data"
    }
   ],
   "source": [
    "\n",
    "plt.bar(range(10),var_exp,align='center',color='lightgreen',edgecolor='black',label='Explained Variance')\n",
    "plt.step(range(10),cum_var_exp,where='mid',color='red',label='Cummulative Explained Variance')\n",
    "plt.xlabel('Principal Components')\n",
    "plt.ylabel('Explianed Variance ratio')\n",
    "plt.title('Scree Plot')\n",
    "plt.legend(loc='best')\n",
    "plt.show()"
   ]
  },
  {
   "cell_type": "markdown",
   "id": "673e175e",
   "metadata": {
    "id": "673e175e"
   },
   "source": [
    "- We can observe from the above scree plot the first 8 principal components are explaining the about 90-95% of the variation, So we can choose optimal number of principal components as 8."
   ]
  },
  {
   "cell_type": "markdown",
   "id": "0c2fc475",
   "metadata": {
    "id": "0c2fc475"
   },
   "source": [
    "### 16. Apply K-means clustering and segment the data (Use PCA transformed data for clustering)"
   ]
  },
  {
   "cell_type": "code",
   "execution_count": 31,
   "id": "60e6f516",
   "metadata": {
    "id": "60e6f516",
    "outputId": "395eeadc-ade2-40bf-f2c3-410a25eeb6cf"
   },
   "outputs": [
    {
     "data": {
      "text/html": [
       "<div>\n",
       "<style scoped>\n",
       "    .dataframe tbody tr th:only-of-type {\n",
       "        vertical-align: middle;\n",
       "    }\n",
       "\n",
       "    .dataframe tbody tr th {\n",
       "        vertical-align: top;\n",
       "    }\n",
       "\n",
       "    .dataframe thead th {\n",
       "        text-align: right;\n",
       "    }\n",
       "</style>\n",
       "<table border=\"1\" class=\"dataframe\">\n",
       "  <thead>\n",
       "    <tr style=\"text-align: right;\">\n",
       "      <th></th>\n",
       "      <th>PC1</th>\n",
       "      <th>PC2</th>\n",
       "      <th>PC3</th>\n",
       "      <th>PC4</th>\n",
       "      <th>PC5</th>\n",
       "      <th>PC6</th>\n",
       "      <th>PC7</th>\n",
       "      <th>PC8</th>\n",
       "    </tr>\n",
       "  </thead>\n",
       "  <tbody>\n",
       "    <tr>\n",
       "      <th>0</th>\n",
       "      <td>2.400155</td>\n",
       "      <td>-0.158359</td>\n",
       "      <td>0.173616</td>\n",
       "      <td>1.144961</td>\n",
       "      <td>-0.710607</td>\n",
       "      <td>0.848982</td>\n",
       "      <td>0.096911</td>\n",
       "      <td>-0.662632</td>\n",
       "    </tr>\n",
       "    <tr>\n",
       "      <th>1</th>\n",
       "      <td>-1.685353</td>\n",
       "      <td>1.035254</td>\n",
       "      <td>-0.631526</td>\n",
       "      <td>1.211321</td>\n",
       "      <td>-0.192947</td>\n",
       "      <td>1.249851</td>\n",
       "      <td>0.506366</td>\n",
       "      <td>0.066299</td>\n",
       "    </tr>\n",
       "    <tr>\n",
       "      <th>2</th>\n",
       "      <td>1.153913</td>\n",
       "      <td>-0.282523</td>\n",
       "      <td>0.102553</td>\n",
       "      <td>-0.793783</td>\n",
       "      <td>0.714669</td>\n",
       "      <td>0.729036</td>\n",
       "      <td>-0.902543</td>\n",
       "      <td>-0.673988</td>\n",
       "    </tr>\n",
       "    <tr>\n",
       "      <th>3</th>\n",
       "      <td>-1.783079</td>\n",
       "      <td>-1.119112</td>\n",
       "      <td>-0.444958</td>\n",
       "      <td>-0.785361</td>\n",
       "      <td>0.587718</td>\n",
       "      <td>-0.323594</td>\n",
       "      <td>-0.389894</td>\n",
       "      <td>0.057251</td>\n",
       "    </tr>\n",
       "    <tr>\n",
       "      <th>4</th>\n",
       "      <td>0.010566</td>\n",
       "      <td>0.590941</td>\n",
       "      <td>0.817011</td>\n",
       "      <td>-0.838955</td>\n",
       "      <td>-0.982988</td>\n",
       "      <td>-1.680099</td>\n",
       "      <td>-0.762159</td>\n",
       "      <td>0.594821</td>\n",
       "    </tr>\n",
       "  </tbody>\n",
       "</table>\n",
       "</div>"
      ],
      "text/plain": [
       "        PC1       PC2       PC3       PC4       PC5       PC6       PC7  \\\n",
       "0  2.400155 -0.158359  0.173616  1.144961 -0.710607  0.848982  0.096911   \n",
       "1 -1.685353  1.035254 -0.631526  1.211321 -0.192947  1.249851  0.506366   \n",
       "2  1.153913 -0.282523  0.102553 -0.793783  0.714669  0.729036 -0.902543   \n",
       "3 -1.783079 -1.119112 -0.444958 -0.785361  0.587718 -0.323594 -0.389894   \n",
       "4  0.010566  0.590941  0.817011 -0.838955 -0.982988 -1.680099 -0.762159   \n",
       "\n",
       "        PC8  \n",
       "0 -0.662632  \n",
       "1  0.066299  \n",
       "2 -0.673988  \n",
       "3  0.057251  \n",
       "4  0.594821  "
      ]
     },
     "execution_count": 31,
     "metadata": {},
     "output_type": "execute_result"
    }
   ],
   "source": [
    "\n",
    "pca = PCA(n_components=8)\n",
    "\n",
    "pca_df = pd.DataFrame(pca.fit_transform(scaled_features_df),columns=['PC1','PC2','PC3','PC4','PC5','PC6', 'PC7', 'PC8'])\n",
    "pca_df.head()"
   ]
  },
  {
   "cell_type": "markdown",
   "id": "7c806d20",
   "metadata": {
    "id": "7c806d20"
   },
   "source": [
    "#### Kmeans Clustering using PCA transformed data"
   ]
  },
  {
   "cell_type": "code",
   "execution_count": 32,
   "id": "ea9c05d1",
   "metadata": {
    "id": "ea9c05d1"
   },
   "outputs": [],
   "source": [
    "\n",
    "cluster_errors = []\n",
    "cluster_range = range(2,15)\n",
    "for num_clusters in cluster_range:\n",
    "    clusters = KMeans(num_clusters,random_state=100)\n",
    "    clusters.fit(pca_df)\n",
    "    cluster_errors.append(clusters.inertia_)"
   ]
  },
  {
   "cell_type": "code",
   "execution_count": 33,
   "id": "27f3840a",
   "metadata": {
    "id": "27f3840a",
    "outputId": "148d558c-7e97-4b5f-fa35-134c2227d3a2"
   },
   "outputs": [
    {
     "data": {
      "image/png": "[encoded data removed]",
      "text/plain": [
       "<Figure size 1500x500 with 1 Axes>"
      ]
     },
     "metadata": {},
     "output_type": "display_data"
    }
   ],
   "source": [
    "\n",
    "cluster_df = pd.DataFrame({'num_clusters':cluster_range,'cluster_errors':cluster_errors})\n",
    "\n",
    "plt.figure(figsize=[15,5])\n",
    "plt.plot(cluster_df['num_clusters'],cluster_df['cluster_errors'],marker='o',color='b')\n",
    "plt.show()"
   ]
  },
  {
   "cell_type": "markdown",
   "id": "ceb3c339",
   "metadata": {
    "id": "ceb3c339"
   },
   "source": [
    "- From the above elbow plot we can see at the cluster K=3, the inertia significantly decreases . Hence we can select our optimal clusters as K=3."
   ]
  },
  {
   "cell_type": "code",
   "execution_count": 34,
   "id": "0e30bf27",
   "metadata": {
    "id": "0e30bf27",
    "outputId": "14d669d7-dd88-40e9-ceab-76dde18094c2"
   },
   "outputs": [
    {
     "data": {
      "text/html": [
       "<style>#sk-container-id-1 {color: black;background-color: white;}#sk-container-id-1 pre{padding: 0;}#sk-container-id-1 div.sk-toggleable {background-color: white;}#sk-container-id-1 label.sk-toggleable__label {cursor: pointer;display: block;width: 100%;margin-bottom: 0;padding: 0.3em;box-sizing: border-box;text-align: center;}#sk-container-id-1 label.sk-toggleable__label-arrow:before {content: \"▸\";float: left;margin-right: 0.25em;color: #696969;}#sk-container-id-1 label.sk-toggleable__label-arrow:hover:before {color: black;}#sk-container-id-1 div.sk-estimator:hover label.sk-toggleable__label-arrow:before {color: black;}#sk-container-id-1 div.sk-toggleable__content {max-height: 0;max-width: 0;overflow: hidden;text-align: left;background-color: #f0f8ff;}#sk-container-id-1 div.sk-toggleable__content pre {margin: 0.2em;color: black;border-radius: 0.25em;background-color: #f0f8ff;}#sk-container-id-1 input.sk-toggleable__control:checked~div.sk-toggleable__content {max-height: 200px;max-width: 100%;overflow: auto;}#sk-container-id-1 input.sk-toggleable__control:checked~label.sk-toggleable__label-arrow:before {content: \"▾\";}#sk-container-id-1 div.sk-estimator input.sk-toggleable__control:checked~label.sk-toggleable__label {background-color: #d4ebff;}#sk-container-id-1 div.sk-label input.sk-toggleable__control:checked~label.sk-toggleable__label {background-color: #d4ebff;}#sk-container-id-1 input.sk-hidden--visually {border: 0;clip: rect(1px 1px 1px 1px);clip: rect(1px, 1px, 1px, 1px);height: 1px;margin: -1px;overflow: hidden;padding: 0;position: absolute;width: 1px;}#sk-container-id-1 div.sk-estimator {font-family: monospace;background-color: #f0f8ff;border: 1px dotted black;border-radius: 0.25em;box-sizing: border-box;margin-bottom: 0.5em;}#sk-container-id-1 div.sk-estimator:hover {background-color: #d4ebff;}#sk-container-id-1 div.sk-parallel-item::after {content: \"\";width: 100%;border-bottom: 1px solid gray;flex-grow: 1;}#sk-container-id-1 div.sk-label:hover label.sk-toggleable__label {background-color: #d4ebff;}#sk-container-id-1 div.sk-serial::before {content: \"\";position: absolute;border-left: 1px solid gray;box-sizing: border-box;top: 0;bottom: 0;left: 50%;z-index: 0;}#sk-container-id-1 div.sk-serial {display: flex;flex-direction: column;align-items: center;background-color: white;padding-right: 0.2em;padding-left: 0.2em;position: relative;}#sk-container-id-1 div.sk-item {position: relative;z-index: 1;}#sk-container-id-1 div.sk-parallel {display: flex;align-items: stretch;justify-content: center;background-color: white;position: relative;}#sk-container-id-1 div.sk-item::before, #sk-container-id-1 div.sk-parallel-item::before {content: \"\";position: absolute;border-left: 1px solid gray;box-sizing: border-box;top: 0;bottom: 0;left: 50%;z-index: -1;}#sk-container-id-1 div.sk-parallel-item {display: flex;flex-direction: column;z-index: 1;position: relative;background-color: white;}#sk-container-id-1 div.sk-parallel-item:first-child::after {align-self: flex-end;width: 50%;}#sk-container-id-1 div.sk-parallel-item:last-child::after {align-self: flex-start;width: 50%;}#sk-container-id-1 div.sk-parallel-item:only-child::after {width: 0;}#sk-container-id-1 div.sk-dashed-wrapped {border: 1px dashed gray;margin: 0 0.4em 0.5em 0.4em;box-sizing: border-box;padding-bottom: 0.4em;background-color: white;}#sk-container-id-1 div.sk-label label {font-family: monospace;font-weight: bold;display: inline-block;line-height: 1.2em;}#sk-container-id-1 div.sk-label-container {text-align: center;}#sk-container-id-1 div.sk-container {/* jupyter's `normalize.less` sets `[hidden] { display: none; }` but bootstrap.min.css set `[hidden] { display: none !important; }` so we also need the `!important` here to be able to override the default hidden behavior on the sphinx rendered scikit-learn.org. See: https://github.com/scikit-learn/scikit-learn/issues/21755 */display: inline-block !important;position: relative;}#sk-container-id-1 div.sk-text-repr-fallback {display: none;}</style><div id=\"sk-container-id-1\" class=\"sk-top-container\"><div class=\"sk-text-repr-fallback\"><pre>KMeans(n_clusters=3, random_state=100)</pre><b>In a Jupyter environment, please rerun this cell to show the HTML representation or trust the notebook. <br />On GitHub, the HTML representation is unable to render, please try loading this page with nbviewer.org.</b></div><div class=\"sk-container\" hidden><div class=\"sk-item\"><div class=\"sk-estimator sk-toggleable\"><input class=\"sk-toggleable__control sk-hidden--visually\" id=\"sk-estimator-id-1\" type=\"checkbox\" checked><label for=\"sk-estimator-id-1\" class=\"sk-toggleable__label sk-toggleable__label-arrow\">KMeans</label><div class=\"sk-toggleable__content\"><pre>KMeans(n_clusters=3, random_state=100)</pre></div></div></div></div></div>"
      ],
      "text/plain": [
       "KMeans(n_clusters=3, random_state=100)"
      ]
     },
     "execution_count": 34,
     "metadata": {},
     "output_type": "execute_result"
    }
   ],
   "source": [
    "\n",
    "kmeans = KMeans(n_clusters=3, random_state=100)\n",
    "kmeans.fit(pca_df)"
   ]
  },
  {
   "cell_type": "code",
   "execution_count": 35,
   "id": "0afa0de3",
   "metadata": {
    "id": "0afa0de3"
   },
   "outputs": [],
   "source": [
    "\n",
    "label = pd.DataFrame(kmeans.labels_,columns=['Label'])"
   ]
  },
  {
   "cell_type": "code",
   "execution_count": 36,
   "id": "10016f1e",
   "metadata": {
    "id": "10016f1e",
    "outputId": "1301705b-363f-47ac-fecd-7c65ee755682"
   },
   "outputs": [
    {
     "data": {
      "text/html": [
       "<div>\n",
       "<style scoped>\n",
       "    .dataframe tbody tr th:only-of-type {\n",
       "        vertical-align: middle;\n",
       "    }\n",
       "\n",
       "    .dataframe tbody tr th {\n",
       "        vertical-align: top;\n",
       "    }\n",
       "\n",
       "    .dataframe thead th {\n",
       "        text-align: right;\n",
       "    }\n",
       "</style>\n",
       "<table border=\"1\" class=\"dataframe\">\n",
       "  <thead>\n",
       "    <tr style=\"text-align: right;\">\n",
       "      <th></th>\n",
       "      <th>PC1</th>\n",
       "      <th>PC2</th>\n",
       "      <th>PC3</th>\n",
       "      <th>PC4</th>\n",
       "      <th>PC5</th>\n",
       "      <th>PC6</th>\n",
       "      <th>PC7</th>\n",
       "      <th>PC8</th>\n",
       "      <th>Label</th>\n",
       "    </tr>\n",
       "  </thead>\n",
       "  <tbody>\n",
       "    <tr>\n",
       "      <th>0</th>\n",
       "      <td>2.400155</td>\n",
       "      <td>-0.158359</td>\n",
       "      <td>0.173616</td>\n",
       "      <td>1.144961</td>\n",
       "      <td>-0.710607</td>\n",
       "      <td>0.848982</td>\n",
       "      <td>0.096911</td>\n",
       "      <td>-0.662632</td>\n",
       "      <td>1</td>\n",
       "    </tr>\n",
       "    <tr>\n",
       "      <th>1</th>\n",
       "      <td>-1.685353</td>\n",
       "      <td>1.035254</td>\n",
       "      <td>-0.631526</td>\n",
       "      <td>1.211321</td>\n",
       "      <td>-0.192947</td>\n",
       "      <td>1.249851</td>\n",
       "      <td>0.506366</td>\n",
       "      <td>0.066299</td>\n",
       "      <td>2</td>\n",
       "    </tr>\n",
       "    <tr>\n",
       "      <th>2</th>\n",
       "      <td>1.153913</td>\n",
       "      <td>-0.282523</td>\n",
       "      <td>0.102553</td>\n",
       "      <td>-0.793783</td>\n",
       "      <td>0.714669</td>\n",
       "      <td>0.729036</td>\n",
       "      <td>-0.902543</td>\n",
       "      <td>-0.673988</td>\n",
       "      <td>1</td>\n",
       "    </tr>\n",
       "    <tr>\n",
       "      <th>3</th>\n",
       "      <td>-1.783079</td>\n",
       "      <td>-1.119112</td>\n",
       "      <td>-0.444958</td>\n",
       "      <td>-0.785361</td>\n",
       "      <td>0.587718</td>\n",
       "      <td>-0.323594</td>\n",
       "      <td>-0.389894</td>\n",
       "      <td>0.057251</td>\n",
       "      <td>2</td>\n",
       "    </tr>\n",
       "    <tr>\n",
       "      <th>4</th>\n",
       "      <td>0.010566</td>\n",
       "      <td>0.590941</td>\n",
       "      <td>0.817011</td>\n",
       "      <td>-0.838955</td>\n",
       "      <td>-0.982988</td>\n",
       "      <td>-1.680099</td>\n",
       "      <td>-0.762159</td>\n",
       "      <td>0.594821</td>\n",
       "      <td>1</td>\n",
       "    </tr>\n",
       "  </tbody>\n",
       "</table>\n",
       "</div>"
      ],
      "text/plain": [
       "        PC1       PC2       PC3       PC4       PC5       PC6       PC7  \\\n",
       "0  2.400155 -0.158359  0.173616  1.144961 -0.710607  0.848982  0.096911   \n",
       "1 -1.685353  1.035254 -0.631526  1.211321 -0.192947  1.249851  0.506366   \n",
       "2  1.153913 -0.282523  0.102553 -0.793783  0.714669  0.729036 -0.902543   \n",
       "3 -1.783079 -1.119112 -0.444958 -0.785361  0.587718 -0.323594 -0.389894   \n",
       "4  0.010566  0.590941  0.817011 -0.838955 -0.982988 -1.680099 -0.762159   \n",
       "\n",
       "        PC8  Label  \n",
       "0 -0.662632      1  \n",
       "1  0.066299      2  \n",
       "2 -0.673988      1  \n",
       "3  0.057251      2  \n",
       "4  0.594821      1  "
      ]
     },
     "execution_count": 36,
     "metadata": {},
     "output_type": "execute_result"
    }
   ],
   "source": [
    "\n",
    "kmeans_df = pca_df.join(label)\n",
    "kmeans_df.head()"
   ]
  },
  {
   "cell_type": "code",
   "execution_count": 37,
   "id": "3072c717",
   "metadata": {
    "id": "3072c717",
    "outputId": "f2689822-b944-4aa4-a003-d9e711f5d030"
   },
   "outputs": [
    {
     "data": {
      "text/plain": [
       "Label\n",
       "2    1147\n",
       "1     856\n",
       "0     237\n",
       "Name: count, dtype: int64"
      ]
     },
     "execution_count": 37,
     "metadata": {},
     "output_type": "execute_result"
    }
   ],
   "source": [
    "kmeans_df['Label'].value_counts()"
   ]
  },
  {
   "cell_type": "code",
   "execution_count": 38,
   "id": "011cedf6",
   "metadata": {
    "id": "011cedf6",
    "outputId": "349f87d4-0b6d-4934-f82b-13d830b3ebc8"
   },
   "outputs": [
    {
     "ename": "TypeError",
     "evalue": "scatterplot() got multiple values for argument 'data'",
     "output_type": "error",
     "traceback": [
      "\u001b[1;31m---------------------------------------------------------------------------\u001b[0m",
      "\u001b[1;31mTypeError\u001b[0m                                 Traceback (most recent call last)",
      "Cell \u001b[1;32mIn[38], line 2\u001b[0m\n\u001b[0;32m      1\u001b[0m \u001b[38;5;66;03m## visualizing the clusters formed \u001b[39;00m\n\u001b[1;32m----> 2\u001b[0m sns\u001b[38;5;241m.\u001b[39mscatterplot(kmeans_df[\u001b[38;5;124m'\u001b[39m\u001b[38;5;124mPC1\u001b[39m\u001b[38;5;124m'\u001b[39m],kmeans_df[\u001b[38;5;124m'\u001b[39m\u001b[38;5;124mPC2\u001b[39m\u001b[38;5;124m'\u001b[39m],hue\u001b[38;5;241m=\u001b[39m\u001b[38;5;124m'\u001b[39m\u001b[38;5;124mLabel\u001b[39m\u001b[38;5;124m'\u001b[39m,data\u001b[38;5;241m=\u001b[39mkmeans_df)\n\u001b[0;32m      3\u001b[0m plt\u001b[38;5;241m.\u001b[39mshow()\n",
      "\u001b[1;31mTypeError\u001b[0m: scatterplot() got multiple values for argument 'data'"
     ]
    }
   ],
   "source": [
    "\n",
    "sns.scatterplot(kmeans_df['PC1'],kmeans_df['PC2'],hue='Label',data=kmeans_df)\n",
    "plt.show()"
   ]
  },
  {
   "cell_type": "markdown",
   "id": "43611eeb",
   "metadata": {
    "id": "43611eeb"
   },
   "source": [
    "### 17. Apply Agglomerative clustering and segment the data (Use Original data for clustering), and perform cluster analysis by doing bivariate analysis between the cluster label and different features and write your observations."
   ]
  },
  {
   "cell_type": "markdown",
   "id": "48579429",
   "metadata": {
    "id": "48579429"
   },
   "source": [
    "#### Agglomerative clustering using the original data"
   ]
  },
  {
   "cell_type": "code",
   "execution_count": 39,
   "id": "6be0b564",
   "metadata": {
    "id": "6be0b564",
    "outputId": "caa63e2b-e929-4f3e-c1a8-e974fca82398"
   },
   "outputs": [
    {
     "data": {
      "image/png": "[encoded data removed]",
      "text/plain": [
       "<Figure size 1800x500 with 1 Axes>"
      ]
     },
     "metadata": {},
     "output_type": "display_data"
    }
   ],
   "source": [
    "plt.figure(figsize=[18,5])\n",
    "merg = linkage(scaled_features, method='ward')\n",
    "dendrogram(merg, leaf_rotation=90,)\n",
    "plt.xlabel('Datapoints')\n",
    "plt.ylabel('Euclidean distance')\n",
    "plt.show()"
   ]
  },
  {
   "cell_type": "markdown",
   "id": "53a5ab2d",
   "metadata": {
    "id": "53a5ab2d"
   },
   "source": [
    "#### Computing silhoutte score for agglomerative clustering"
   ]
  },
  {
   "cell_type": "code",
   "execution_count": 40,
   "id": "5c2b0983",
   "metadata": {
    "id": "5c2b0983"
   },
   "outputs": [],
   "source": [
    "from sklearn.metrics import silhouette_score"
   ]
  },
  {
   "cell_type": "code",
   "execution_count": 41,
   "id": "fcfe6fe8",
   "metadata": {
    "id": "fcfe6fe8",
    "outputId": "551d4917-191e-4ca9-ea0f-f7928b70751c"
   },
   "outputs": [
    {
     "name": "stdout",
     "output_type": "stream",
     "text": [
      "2 0.1953269278987601\n",
      "3 0.20313571826900448\n",
      "4 0.17395958717234267\n",
      "5 0.14508245902819655\n",
      "6 0.1553784680322984\n",
      "7 0.1552619383470093\n",
      "8 0.12893536402180128\n",
      "9 0.1172300737849382\n",
      "10 0.11995018104860722\n",
      "11 0.1182900137805396\n",
      "12 0.12042291646023351\n",
      "13 0.11544079815492278\n",
      "14 0.11642326253333647\n"
     ]
    }
   ],
   "source": [
    "for i in range(2,15):\n",
    "    hier = AgglomerativeClustering(n_clusters=i)\n",
    "    hier = hier.fit(scaled_features_df)\n",
    "    labels = hier.fit_predict(scaled_features_df)\n",
    "    print(i,silhouette_score(scaled_features_df,labels))"
   ]
  },
  {
   "cell_type": "markdown",
   "id": "345027f0",
   "metadata": {
    "id": "345027f0"
   },
   "source": [
    "- We can observe from the above dendrogram and as well as the silhoutte scores for different clusters, The highest silhoutte score is for clusters 3.\n",
    "- Lets choose K=3 as the optimal cluster size and build a agglomerative clustering model using the original scaled dataset."
   ]
  },
  {
   "cell_type": "code",
   "execution_count": 42,
   "id": "2b1831fc",
   "metadata": {
    "id": "2b1831fc"
   },
   "outputs": [],
   "source": [
    "\n",
    "hie_cluster = AgglomerativeClustering(n_clusters=3, affinity='euclidean',\n",
    "                                     linkage='ward')\n",
    "hie_cluster_model = hie_cluster.fit(scaled_features_df)"
   ]
  },
  {
   "cell_type": "code",
   "execution_count": 43,
   "id": "fe8b5190",
   "metadata": {
    "id": "fe8b5190",
    "outputId": "95a09f22-928b-4154-ad5b-c863d71cbc10"
   },
   "outputs": [
    {
     "data": {
      "text/html": [
       "<div>\n",
       "<style scoped>\n",
       "    .dataframe tbody tr th:only-of-type {\n",
       "        vertical-align: middle;\n",
       "    }\n",
       "\n",
       "    .dataframe tbody tr th {\n",
       "        vertical-align: top;\n",
       "    }\n",
       "\n",
       "    .dataframe thead th {\n",
       "        text-align: right;\n",
       "    }\n",
       "</style>\n",
       "<table border=\"1\" class=\"dataframe\">\n",
       "  <thead>\n",
       "    <tr style=\"text-align: right;\">\n",
       "      <th></th>\n",
       "      <th>Labels</th>\n",
       "    </tr>\n",
       "  </thead>\n",
       "  <tbody>\n",
       "    <tr>\n",
       "      <th>0</th>\n",
       "      <td>0</td>\n",
       "    </tr>\n",
       "    <tr>\n",
       "      <th>1</th>\n",
       "      <td>1</td>\n",
       "    </tr>\n",
       "    <tr>\n",
       "      <th>2</th>\n",
       "      <td>0</td>\n",
       "    </tr>\n",
       "    <tr>\n",
       "      <th>3</th>\n",
       "      <td>1</td>\n",
       "    </tr>\n",
       "    <tr>\n",
       "      <th>4</th>\n",
       "      <td>0</td>\n",
       "    </tr>\n",
       "  </tbody>\n",
       "</table>\n",
       "</div>"
      ],
      "text/plain": [
       "   Labels\n",
       "0       0\n",
       "1       1\n",
       "2       0\n",
       "3       1\n",
       "4       0"
      ]
     },
     "execution_count": 43,
     "metadata": {},
     "output_type": "execute_result"
    }
   ],
   "source": [
    "\n",
    "df_label1 = pd.DataFrame(hie_cluster_model.labels_,columns=['Labels'])\n",
    "df_label1.head(5)"
   ]
  },
  {
   "cell_type": "code",
   "execution_count": 44,
   "id": "b6153f78",
   "metadata": {
    "id": "b6153f78",
    "outputId": "cbd2ebb7-39a8-4177-d858-27a9427cfb56"
   },
   "outputs": [
    {
     "data": {
      "text/html": [
       "<div>\n",
       "<style scoped>\n",
       "    .dataframe tbody tr th:only-of-type {\n",
       "        vertical-align: middle;\n",
       "    }\n",
       "\n",
       "    .dataframe tbody tr th {\n",
       "        vertical-align: top;\n",
       "    }\n",
       "\n",
       "    .dataframe thead th {\n",
       "        text-align: right;\n",
       "    }\n",
       "</style>\n",
       "<table border=\"1\" class=\"dataframe\">\n",
       "  <thead>\n",
       "    <tr style=\"text-align: right;\">\n",
       "      <th></th>\n",
       "      <th>Education</th>\n",
       "      <th>Marital_Status</th>\n",
       "      <th>Income</th>\n",
       "      <th>Recency</th>\n",
       "      <th>Complain</th>\n",
       "      <th>Total_Expenses</th>\n",
       "      <th>NumTotalPurchases</th>\n",
       "      <th>Kids</th>\n",
       "      <th>TotalAcceptedCmp</th>\n",
       "      <th>Age</th>\n",
       "      <th>Labels</th>\n",
       "    </tr>\n",
       "  </thead>\n",
       "  <tbody>\n",
       "    <tr>\n",
       "      <th>0</th>\n",
       "      <td>Graduation</td>\n",
       "      <td>Single</td>\n",
       "      <td>58138.0</td>\n",
       "      <td>58</td>\n",
       "      <td>0</td>\n",
       "      <td>1617</td>\n",
       "      <td>25</td>\n",
       "      <td>0</td>\n",
       "      <td>1</td>\n",
       "      <td>65</td>\n",
       "      <td>0</td>\n",
       "    </tr>\n",
       "    <tr>\n",
       "      <th>1</th>\n",
       "      <td>Graduation</td>\n",
       "      <td>Single</td>\n",
       "      <td>46344.0</td>\n",
       "      <td>38</td>\n",
       "      <td>0</td>\n",
       "      <td>27</td>\n",
       "      <td>6</td>\n",
       "      <td>2</td>\n",
       "      <td>0</td>\n",
       "      <td>68</td>\n",
       "      <td>1</td>\n",
       "    </tr>\n",
       "    <tr>\n",
       "      <th>2</th>\n",
       "      <td>Graduation</td>\n",
       "      <td>relationship</td>\n",
       "      <td>71613.0</td>\n",
       "      <td>26</td>\n",
       "      <td>0</td>\n",
       "      <td>776</td>\n",
       "      <td>21</td>\n",
       "      <td>0</td>\n",
       "      <td>0</td>\n",
       "      <td>57</td>\n",
       "      <td>0</td>\n",
       "    </tr>\n",
       "    <tr>\n",
       "      <th>3</th>\n",
       "      <td>Graduation</td>\n",
       "      <td>relationship</td>\n",
       "      <td>26646.0</td>\n",
       "      <td>26</td>\n",
       "      <td>0</td>\n",
       "      <td>53</td>\n",
       "      <td>8</td>\n",
       "      <td>1</td>\n",
       "      <td>0</td>\n",
       "      <td>38</td>\n",
       "      <td>1</td>\n",
       "    </tr>\n",
       "    <tr>\n",
       "      <th>4</th>\n",
       "      <td>PhD</td>\n",
       "      <td>relationship</td>\n",
       "      <td>58293.0</td>\n",
       "      <td>94</td>\n",
       "      <td>0</td>\n",
       "      <td>422</td>\n",
       "      <td>19</td>\n",
       "      <td>1</td>\n",
       "      <td>0</td>\n",
       "      <td>41</td>\n",
       "      <td>0</td>\n",
       "    </tr>\n",
       "  </tbody>\n",
       "</table>\n",
       "</div>"
      ],
      "text/plain": [
       "    Education Marital_Status   Income  Recency  Complain  Total_Expenses  \\\n",
       "0  Graduation         Single  58138.0       58         0            1617   \n",
       "1  Graduation         Single  46344.0       38         0              27   \n",
       "2  Graduation   relationship  71613.0       26         0             776   \n",
       "3  Graduation   relationship  26646.0       26         0              53   \n",
       "4         PhD   relationship  58293.0       94         0             422   \n",
       "\n",
       "   NumTotalPurchases  Kids  TotalAcceptedCmp  Age  Labels  \n",
       "0                 25     0                 1   65       0  \n",
       "1                  6     2                 0   68       1  \n",
       "2                 21     0                 0   57       0  \n",
       "3                  8     1                 0   38       1  \n",
       "4                 19     1                 0   41       0  "
      ]
     },
     "execution_count": 44,
     "metadata": {},
     "output_type": "execute_result"
    }
   ],
   "source": [
    "\n",
    "\n",
    "df_hier = dfc.join(df_label1)\n",
    "df_hier.head()"
   ]
  },
  {
   "cell_type": "markdown",
   "id": "797a5ecd",
   "metadata": {
    "id": "797a5ecd"
   },
   "source": [
    "### Visualization and Interpretation of results"
   ]
  },
  {
   "cell_type": "code",
   "execution_count": 45,
   "id": "775ce755",
   "metadata": {
    "colab": {
     "base_uri": "https://localhost:8080/",
     "height": 279
    },
    "executionInfo": {
     "elapsed": 1111,
     "status": "ok",
     "timestamp": 1656761378279,
     "user": {
      "displayName": "Ranjitha Prasad",
      "userId": "10570177482505539876"
     },
     "user_tz": -330
    },
    "id": "775ce755",
    "outputId": "58af0778-ba7e-458f-96ca-f15727705269"
   },
   "outputs": [
    {
     "ename": "TypeError",
     "evalue": "barplot() takes from 0 to 1 positional arguments but 2 were given",
     "output_type": "error",
     "traceback": [
      "\u001b[1;31m---------------------------------------------------------------------------\u001b[0m",
      "\u001b[1;31mTypeError\u001b[0m                                 Traceback (most recent call last)",
      "Cell \u001b[1;32mIn[45], line 1\u001b[0m\n\u001b[1;32m----> 1\u001b[0m sns\u001b[38;5;241m.\u001b[39mbarplot(df_hier[\u001b[38;5;124m'\u001b[39m\u001b[38;5;124mLabels\u001b[39m\u001b[38;5;124m'\u001b[39m],df_hier[\u001b[38;5;124m'\u001b[39m\u001b[38;5;124mTotal_Expenses\u001b[39m\u001b[38;5;124m'\u001b[39m])\n\u001b[0;32m      2\u001b[0m plt\u001b[38;5;241m.\u001b[39mshow()\n",
      "\u001b[1;31mTypeError\u001b[0m: barplot() takes from 0 to 1 positional arguments but 2 were given"
     ]
    }
   ],
   "source": [
    "sns.barplot(df_hier['Labels'],df_hier['Total_Expenses'])\n",
    "plt.show()"
   ]
  },
  {
   "cell_type": "markdown",
   "id": "6c45e3a3",
   "metadata": {
    "id": "6c45e3a3"
   },
   "source": [
    "- The Total_Expenses is much higher for cluster 0 compared to the clusters 1 and 2."
   ]
  },
  {
   "cell_type": "code",
   "execution_count": 46,
   "id": "2916be8c",
   "metadata": {
    "colab": {
     "base_uri": "https://localhost:8080/",
     "height": 279
    },
    "executionInfo": {
     "elapsed": 370,
     "status": "ok",
     "timestamp": 1656761380864,
     "user": {
      "displayName": "Ranjitha Prasad",
      "userId": "10570177482505539876"
     },
     "user_tz": -330
    },
    "id": "2916be8c",
    "outputId": "b904aa38-7616-4d3e-c423-34f962d4759c"
   },
   "outputs": [
    {
     "ename": "TypeError",
     "evalue": "barplot() takes from 0 to 1 positional arguments but 2 were given",
     "output_type": "error",
     "traceback": [
      "\u001b[1;31m---------------------------------------------------------------------------\u001b[0m",
      "\u001b[1;31mTypeError\u001b[0m                                 Traceback (most recent call last)",
      "Cell \u001b[1;32mIn[46], line 1\u001b[0m\n\u001b[1;32m----> 1\u001b[0m sns\u001b[38;5;241m.\u001b[39mbarplot(df_hier[\u001b[38;5;124m'\u001b[39m\u001b[38;5;124mLabels\u001b[39m\u001b[38;5;124m'\u001b[39m],df_hier[\u001b[38;5;124m'\u001b[39m\u001b[38;5;124mIncome\u001b[39m\u001b[38;5;124m'\u001b[39m])\n\u001b[0;32m      2\u001b[0m plt\u001b[38;5;241m.\u001b[39mshow()\n",
      "\u001b[1;31mTypeError\u001b[0m: barplot() takes from 0 to 1 positional arguments but 2 were given"
     ]
    }
   ],
   "source": [
    "sns.barplot(df_hier['Labels'],df_hier['Income'])\n",
    "plt.show()"
   ]
  },
  {
   "cell_type": "markdown",
   "id": "4cd1cfaf",
   "metadata": {
    "id": "4cd1cfaf"
   },
   "source": [
    "- Where as the Income is also higher for the cluster 0 followed by cluster 2."
   ]
  },
  {
   "cell_type": "code",
   "execution_count": 47,
   "id": "c40153cf",
   "metadata": {
    "colab": {
     "base_uri": "https://localhost:8080/",
     "height": 279
    },
    "executionInfo": {
     "elapsed": 1012,
     "status": "ok",
     "timestamp": 1656761385838,
     "user": {
      "displayName": "Ranjitha Prasad",
      "userId": "10570177482505539876"
     },
     "user_tz": -330
    },
    "id": "c40153cf",
    "outputId": "796dc181-3d9b-4bfa-acd2-ca4526be4eb6"
   },
   "outputs": [
    {
     "ename": "TypeError",
     "evalue": "countplot() got multiple values for argument 'data'",
     "output_type": "error",
     "traceback": [
      "\u001b[1;31m---------------------------------------------------------------------------\u001b[0m",
      "\u001b[1;31mTypeError\u001b[0m                                 Traceback (most recent call last)",
      "Cell \u001b[1;32mIn[47], line 1\u001b[0m\n\u001b[1;32m----> 1\u001b[0m sns\u001b[38;5;241m.\u001b[39mcountplot(df_hier[\u001b[38;5;124m'\u001b[39m\u001b[38;5;124mMarital_Status\u001b[39m\u001b[38;5;124m'\u001b[39m],hue\u001b[38;5;241m=\u001b[39m\u001b[38;5;124m'\u001b[39m\u001b[38;5;124mLabels\u001b[39m\u001b[38;5;124m'\u001b[39m,data\u001b[38;5;241m=\u001b[39mdf_hier)\n\u001b[0;32m      2\u001b[0m plt\u001b[38;5;241m.\u001b[39mshow()\n",
      "\u001b[1;31mTypeError\u001b[0m: countplot() got multiple values for argument 'data'"
     ]
    }
   ],
   "source": [
    "sns.countplot(df_hier['Marital_Status'],hue='Labels',data=df_hier)\n",
    "plt.show()"
   ]
  },
  {
   "cell_type": "markdown",
   "id": "f45d31fe",
   "metadata": {
    "id": "f45d31fe"
   },
   "source": [
    "- We can observe that the most of the customers who are in a relationship falls under cluster 0."
   ]
  },
  {
   "cell_type": "code",
   "execution_count": 48,
   "id": "c88694f2",
   "metadata": {
    "colab": {
     "base_uri": "https://localhost:8080/",
     "height": 279
    },
    "executionInfo": {
     "elapsed": 451,
     "status": "ok",
     "timestamp": 1656761391692,
     "user": {
      "displayName": "Ranjitha Prasad",
      "userId": "10570177482505539876"
     },
     "user_tz": -330
    },
    "id": "c88694f2",
    "outputId": "4308f025-02d8-4eb6-fb52-eefbd096c221"
   },
   "outputs": [
    {
     "ename": "TypeError",
     "evalue": "barplot() takes from 0 to 1 positional arguments but 2 were given",
     "output_type": "error",
     "traceback": [
      "\u001b[1;31m---------------------------------------------------------------------------\u001b[0m",
      "\u001b[1;31mTypeError\u001b[0m                                 Traceback (most recent call last)",
      "Cell \u001b[1;32mIn[48], line 1\u001b[0m\n\u001b[1;32m----> 1\u001b[0m sns\u001b[38;5;241m.\u001b[39mbarplot(df_hier[\u001b[38;5;124m'\u001b[39m\u001b[38;5;124mLabels\u001b[39m\u001b[38;5;124m'\u001b[39m],df_hier[\u001b[38;5;124m'\u001b[39m\u001b[38;5;124mNumTotalPurchases\u001b[39m\u001b[38;5;124m'\u001b[39m])\n\u001b[0;32m      2\u001b[0m plt\u001b[38;5;241m.\u001b[39mshow()\n",
      "\u001b[1;31mTypeError\u001b[0m: barplot() takes from 0 to 1 positional arguments but 2 were given"
     ]
    }
   ],
   "source": [
    "sns.barplot(df_hier['Labels'],df_hier['NumTotalPurchases'])\n",
    "plt.show()"
   ]
  }
 ],
 "metadata": {
  "colab": {
   "collapsed_sections": [
    "c568ae03",
    "920600c4",
    "0a00b184",
    "9d07b403",
    "ddb078a4",
    "6d5590bb",
    "797a5ecd",
    "81cd0c64",
    "36afd95b"
   ],
   "name": "Unsupervised Learning - Lab session - Sample Solution.ipynb",
   "provenance": []
  },
  "kernelspec": {
   "display_name": "Python 3 (ipykernel)",
   "language": "python",
   "name": "python3"
  },
  "language_info": {
   "codemirror_mode": {
    "name": "ipython",
    "version": 3
   },
   "file_extension": ".py",
   "mimetype": "text/x-python",
   "name": "python",
   "nbconvert_exporter": "python",
   "pygments_lexer": "ipython3",
   "version": "3.11.7"
  }
 },
 "nbformat": 4,
 "nbformat_minor": 5
}
